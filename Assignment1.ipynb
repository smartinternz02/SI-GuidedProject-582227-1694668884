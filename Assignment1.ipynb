{
  "nbformat": 4,
  "nbformat_minor": 0,
  "metadata": {
    "colab": {
      "provenance": []
    },
    "kernelspec": {
      "name": "python3",
      "display_name": "Python 3"
    },
    "language_info": {
      "name": "python"
    }
  },
  "cells": [
    {
      "cell_type": "code",
      "execution_count": 1,
      "metadata": {
        "id": "qw7S1j-VXVKu"
      },
      "outputs": [],
      "source": [
        "import pandas as pd\n",
        "import numpy as np"
      ]
    },
    {
      "cell_type": "markdown",
      "source": [
        "Data 10 Observation and 5 features"
      ],
      "metadata": {
        "id": "1XsqppA5oo30"
      }
    },
    {
      "cell_type": "code",
      "source": [
        "data={\n",
        "    'Name':['James','Harry','Geena','Mark','Adam','Amy','Irish','Tom','Peeka','Rosa'],\n",
        "    'Age':[20,24,28,25,20,34,36,23,45,25],\n",
        "    'Gender':['M','M','F','M','M',np.nan,'M','M','M','F'],\n",
        "    'Income':[200,1000,4000,20000,10000,54500,20050,1020,10000,40000],\n",
        "    'Number':['78','24','56','67','87','34',np.nan,'65','70','55']\n",
        "}\n",
        "df=pd.DataFrame(data)\n",
        "print(df)"
      ],
      "metadata": {
        "colab": {
          "base_uri": "https://localhost:8080/"
        },
        "id": "XMftcOxbXcrM",
        "outputId": "ff2dba9d-3928-484b-f642-b5b138fda9d5"
      },
      "execution_count": 18,
      "outputs": [
        {
          "output_type": "stream",
          "name": "stdout",
          "text": [
            "    Name  Age Gender  Income Number\n",
            "0  James   20      M     200     78\n",
            "1  Harry   24      M    1000     24\n",
            "2  Geena   28      F    4000     56\n",
            "3   Mark   25      M   20000     67\n",
            "4   Adam   20      M   10000     87\n",
            "5    Amy   34    NaN   54500     34\n",
            "6  Irish   36      M   20050    NaN\n",
            "7    Tom   23      M    1020     65\n",
            "8  Peeka   45      M   10000     70\n",
            "9   Rosa   25      F   40000     55\n"
          ]
        }
      ]
    },
    {
      "cell_type": "markdown",
      "source": [
        "Info of Df"
      ],
      "metadata": {
        "id": "bprFcFfPorAa"
      }
    },
    {
      "cell_type": "code",
      "source": [
        "print(df.info())"
      ],
      "metadata": {
        "colab": {
          "base_uri": "https://localhost:8080/"
        },
        "id": "iq8W3Jg0bOke",
        "outputId": "6c82db74-5737-4fcf-cc08-85dc16dd9507"
      },
      "execution_count": 19,
      "outputs": [
        {
          "output_type": "stream",
          "name": "stdout",
          "text": [
            "<class 'pandas.core.frame.DataFrame'>\n",
            "RangeIndex: 10 entries, 0 to 9\n",
            "Data columns (total 5 columns):\n",
            " #   Column  Non-Null Count  Dtype \n",
            "---  ------  --------------  ----- \n",
            " 0   Name    10 non-null     object\n",
            " 1   Age     10 non-null     int64 \n",
            " 2   Gender  9 non-null      object\n",
            " 3   Income  10 non-null     int64 \n",
            " 4   Number  9 non-null      object\n",
            "dtypes: int64(2), object(3)\n",
            "memory usage: 528.0+ bytes\n",
            "None\n"
          ]
        }
      ]
    },
    {
      "cell_type": "markdown",
      "source": [
        "Descriptive Statistic of df"
      ],
      "metadata": {
        "id": "acDhJpltoxHk"
      }
    },
    {
      "cell_type": "code",
      "source": [
        "print(df.describe())"
      ],
      "metadata": {
        "colab": {
          "base_uri": "https://localhost:8080/"
        },
        "id": "sJ1Ke-B-bRQy",
        "outputId": "6f8a262a-5cf4-46b4-901e-3ab287c92356"
      },
      "execution_count": 20,
      "outputs": [
        {
          "output_type": "stream",
          "name": "stdout",
          "text": [
            "         Age        Income\n",
            "count  10.00     10.000000\n",
            "mean   28.00  16077.000000\n",
            "std     8.00  18274.553073\n",
            "min    20.00    200.000000\n",
            "25%    23.25   1765.000000\n",
            "50%    25.00  10000.000000\n",
            "75%    32.50  20037.500000\n",
            "max    45.00  54500.000000\n"
          ]
        }
      ]
    },
    {
      "cell_type": "markdown",
      "source": [
        "Loc of 4th Index of Observation"
      ],
      "metadata": {
        "id": "cCLLwJ9Fo5kl"
      }
    },
    {
      "cell_type": "code",
      "source": [
        "print(df.loc[3])"
      ],
      "metadata": {
        "colab": {
          "base_uri": "https://localhost:8080/"
        },
        "id": "ibcpMIWVbaQW",
        "outputId": "5955916b-a05e-42f7-cb34-efbcb66ec9f2"
      },
      "execution_count": 21,
      "outputs": [
        {
          "output_type": "stream",
          "name": "stdout",
          "text": [
            "Name       Mark\n",
            "Age          25\n",
            "Gender        M\n",
            "Income    20000\n",
            "Number       67\n",
            "Name: 3, dtype: object\n"
          ]
        }
      ]
    },
    {
      "cell_type": "markdown",
      "source": [
        "Checking Null values of df"
      ],
      "metadata": {
        "id": "CJ55IssGpDiK"
      }
    },
    {
      "cell_type": "code",
      "source": [
        "print(df.isnull().sum())\n",
        "print(df.isnull().any())"
      ],
      "metadata": {
        "colab": {
          "base_uri": "https://localhost:8080/"
        },
        "id": "83iAFaKUb471",
        "outputId": "f52a18de-cb7e-4e92-d438-0d995c768e06"
      },
      "execution_count": 22,
      "outputs": [
        {
          "output_type": "stream",
          "name": "stdout",
          "text": [
            "Name      0\n",
            "Age       0\n",
            "Gender    1\n",
            "Income    0\n",
            "Number    1\n",
            "dtype: int64\n",
            "Name      False\n",
            "Age       False\n",
            "Gender     True\n",
            "Income    False\n",
            "Number     True\n",
            "dtype: bool\n"
          ]
        }
      ]
    }
  ]
}